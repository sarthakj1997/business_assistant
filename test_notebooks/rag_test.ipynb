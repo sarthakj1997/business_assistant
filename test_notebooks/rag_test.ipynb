{
 "cells": [
  {
   "cell_type": "code",
   "execution_count": 2,
   "id": "3fa25ce5",
   "metadata": {},
   "outputs": [
    {
     "data": {
      "text/plain": [
       "True"
      ]
     },
     "execution_count": 2,
     "metadata": {},
     "output_type": "execute_result"
    }
   ],
   "source": [
    "import sys\n",
    "sys.path.append('c:/Users/Sarthak/Documents/GitHub/business_assistant')\n",
    "\n",
    "from backend.services.rag_embedding_invoice import search_invoices\n",
    "import os\n",
    "from dotenv import load_dotenv\n",
    "\n",
    "load_dotenv()"
   ]
  },
  {
   "cell_type": "code",
   "execution_count": 3,
   "id": "0cf127c9",
   "metadata": {},
   "outputs": [],
   "source": [
    "def test_search(query, user_id=None):\n",
    "    print(f\"Query: {query}\")\n",
    "    print(f\"User ID: {user_id}\")\n",
    "    print(\"-\" * 50)\n",
    "    \n",
    "    results = search_invoices(query, user_id, top_k=3)\n",
    "    \n",
    "    for i, result in enumerate(results, 1):\n",
    "        print(f\"Result {i} (Score: {result['score']:.3f}):\")\n",
    "        metadata = result['metadata']\n",
    "        print(f\"  Type: {metadata['type']}\")\n",
    "        print(f\"  Vendor: {metadata['vendor_name']}\")\n",
    "        \n",
    "        if metadata['type'] == 'invoice':\n",
    "            print(f\"  Invoice: {metadata['invoice_number']}\")\n",
    "            print(f\"  Total: {metadata['total']} {metadata['currency']}\")\n",
    "            print(f\"  Date: {metadata['invoice_date']}\")\n",
    "        else:\n",
    "            print(f\"  Description: {metadata['description']}\")\n",
    "            print(f\"  Quantity: {metadata['quantity']}\")\n",
    "            print(f\"  Line Total: {metadata['line_total']}\")\n",
    "        print()\n"
   ]
  },
  {
   "cell_type": "code",
   "execution_count": 4,
   "id": "e9041e2a",
   "metadata": {},
   "outputs": [
    {
     "name": "stdout",
     "output_type": "stream",
     "text": [
      "Query: Appario Retail invoices\n",
      "User ID: None\n",
      "--------------------------------------------------\n"
     ]
    },
    {
     "name": "stderr",
     "output_type": "stream",
     "text": [
      "c:\\Users\\Sarthak\\anaconda3\\envs\\venv\\Lib\\site-packages\\torch\\nn\\modules\\module.py:1762: FutureWarning: `encoder_attention_mask` is deprecated and will be removed in version 4.55.0 for `BertSdpaSelfAttention.forward`.\n",
      "  return forward_call(*args, **kwargs)\n"
     ]
    }
   ],
   "source": [
    "test_search(\"Appario Retail invoices\")"
   ]
  },
  {
   "cell_type": "code",
   "execution_count": null,
   "id": "ddff1c99",
   "metadata": {},
   "outputs": [
    {
     "ename": "NameError",
     "evalue": "name '__file__' is not defined",
     "output_type": "error",
     "traceback": [
      "\u001b[31m---------------------------------------------------------------------------\u001b[39m",
      "\u001b[31mNameError\u001b[39m                                 Traceback (most recent call last)",
      "\u001b[36mCell\u001b[39m\u001b[36m \u001b[39m\u001b[32mIn[1]\u001b[39m\u001b[32m, line 5\u001b[39m\n\u001b[32m      3\u001b[39m \u001b[38;5;28;01mimport\u001b[39;00m\u001b[38;5;250m \u001b[39m\u001b[34;01mos\u001b[39;00m\n\u001b[32m      4\u001b[39m \u001b[38;5;28;01mimport\u001b[39;00m\u001b[38;5;250m \u001b[39m\u001b[34;01mjson\u001b[39;00m\n\u001b[32m----> \u001b[39m\u001b[32m5\u001b[39m sys.path.append(os.path.dirname(os.path.dirname(os.path.abspath(\u001b[34;43m__file__\u001b[39;49m))))\n\u001b[32m      7\u001b[39m \u001b[38;5;28;01mfrom\u001b[39;00m\u001b[38;5;250m \u001b[39m\u001b[34;01msqlalchemy\u001b[39;00m\u001b[38;5;250m \u001b[39m\u001b[38;5;28;01mimport\u001b[39;00m text\n\u001b[32m      8\u001b[39m \u001b[38;5;28;01mfrom\u001b[39;00m\u001b[38;5;250m \u001b[39m\u001b[34;01mdatabase\u001b[39;00m\u001b[34;01m.\u001b[39;00m\u001b[34;01msetup_db\u001b[39;00m\u001b[38;5;250m \u001b[39m\u001b[38;5;28;01mimport\u001b[39;00m SessionLocal\n",
      "\u001b[31mNameError\u001b[39m: name '__file__' is not defined"
     ]
    }
   ],
   "source": [
    "# generate_eval_queries.py - Updated\n",
    "def generate_queries_from_db():\n",
    "    db = SessionLocal()\n",
    "    try:\n",
    "        result = db.execute(text(\"\"\"\n",
    "            SELECT \n",
    "                i.id as invoice_id,\n",
    "                i.order_id,\n",
    "                i.contact_name,\n",
    "                i.total_price,\n",
    "                i.city,\n",
    "                i.country,\n",
    "                li.product_name,\n",
    "                li.quantity,\n",
    "                ROW_NUMBER() OVER (PARTITION BY i.id ORDER BY li.id) - 1 as item_index\n",
    "            FROM invoices i\n",
    "            LEFT JOIN line_items li ON i.id = li.invoice_id\n",
    "            ORDER BY i.id, li.id\n",
    "        \"\"\"))\n",
    "        \n",
    "        # Generate queries using invoice_id (database ID) for relevant_ids\n",
    "        queries = []\n",
    "        \n",
    "        for row in rows[:10]:  # First 10 rows\n",
    "            queries.extend([\n",
    "                {\n",
    "                    \"query\": f\"Show me the invoice with Order ID {row.order_id}\",\n",
    "                    \"relevant_ids\": [f\"invoice_{row.invoice_id}\"]\n",
    "                },\n",
    "                {\n",
    "                    \"query\": f\"Find the line item for {row.product_name}\",\n",
    "                    \"relevant_ids\": [f\"item_{row.invoice_id}_{row.item_index}\"]\n",
    "                }\n",
    "            ])\n",
    "        \n",
    "        return queries\n"
   ]
  }
 ],
 "metadata": {
  "kernelspec": {
   "display_name": "venv",
   "language": "python",
   "name": "python3"
  },
  "language_info": {
   "codemirror_mode": {
    "name": "ipython",
    "version": 3
   },
   "file_extension": ".py",
   "mimetype": "text/x-python",
   "name": "python",
   "nbconvert_exporter": "python",
   "pygments_lexer": "ipython3",
   "version": "3.12.11"
  }
 },
 "nbformat": 4,
 "nbformat_minor": 5
}
