{
 "cells": [
  {
   "cell_type": "code",
   "execution_count": 2,
   "id": "3fa25ce5",
   "metadata": {},
   "outputs": [
    {
     "data": {
      "text/plain": [
       "True"
      ]
     },
     "execution_count": 2,
     "metadata": {},
     "output_type": "execute_result"
    }
   ],
   "source": [
    "import sys\n",
    "sys.path.append('c:/Users/Sarthak/Documents/GitHub/business_assistant')\n",
    "\n",
    "from backend.services.rag_embedding_invoice import search_invoices\n",
    "import os\n",
    "from dotenv import load_dotenv\n",
    "\n",
    "load_dotenv()"
   ]
  },
  {
   "cell_type": "code",
   "execution_count": 3,
   "id": "0cf127c9",
   "metadata": {},
   "outputs": [],
   "source": [
    "def test_search(query, user_id=None):\n",
    "    print(f\"Query: {query}\")\n",
    "    print(f\"User ID: {user_id}\")\n",
    "    print(\"-\" * 50)\n",
    "    \n",
    "    results = search_invoices(query, user_id, top_k=3)\n",
    "    \n",
    "    for i, result in enumerate(results, 1):\n",
    "        print(f\"Result {i} (Score: {result['score']:.3f}):\")\n",
    "        metadata = result['metadata']\n",
    "        print(f\"  Type: {metadata['type']}\")\n",
    "        print(f\"  Vendor: {metadata['vendor_name']}\")\n",
    "        \n",
    "        if metadata['type'] == 'invoice':\n",
    "            print(f\"  Invoice: {metadata['invoice_number']}\")\n",
    "            print(f\"  Total: {metadata['total']} {metadata['currency']}\")\n",
    "            print(f\"  Date: {metadata['invoice_date']}\")\n",
    "        else:\n",
    "            print(f\"  Description: {metadata['description']}\")\n",
    "            print(f\"  Quantity: {metadata['quantity']}\")\n",
    "            print(f\"  Line Total: {metadata['line_total']}\")\n",
    "        print()\n"
   ]
  },
  {
   "cell_type": "code",
   "execution_count": 4,
   "id": "e9041e2a",
   "metadata": {},
   "outputs": [
    {
     "name": "stdout",
     "output_type": "stream",
     "text": [
      "Query: Appario Retail invoices\n",
      "User ID: None\n",
      "--------------------------------------------------\n"
     ]
    },
    {
     "name": "stderr",
     "output_type": "stream",
     "text": [
      "c:\\Users\\Sarthak\\anaconda3\\envs\\venv\\Lib\\site-packages\\torch\\nn\\modules\\module.py:1762: FutureWarning: `encoder_attention_mask` is deprecated and will be removed in version 4.55.0 for `BertSdpaSelfAttention.forward`.\n",
      "  return forward_call(*args, **kwargs)\n"
     ]
    }
   ],
   "source": [
    "test_search(\"Appario Retail invoices\")"
   ]
  },
  {
   "cell_type": "code",
   "execution_count": null,
   "id": "ddff1c99",
   "metadata": {},
   "outputs": [],
   "source": []
  }
 ],
 "metadata": {
  "kernelspec": {
   "display_name": "venv",
   "language": "python",
   "name": "python3"
  },
  "language_info": {
   "codemirror_mode": {
    "name": "ipython",
    "version": 3
   },
   "file_extension": ".py",
   "mimetype": "text/x-python",
   "name": "python",
   "nbconvert_exporter": "python",
   "pygments_lexer": "ipython3",
   "version": "3.12.11"
  }
 },
 "nbformat": 4,
 "nbformat_minor": 5
}
